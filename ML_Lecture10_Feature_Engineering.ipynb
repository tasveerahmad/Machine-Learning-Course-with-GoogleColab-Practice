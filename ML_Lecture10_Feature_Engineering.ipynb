{
  "nbformat": 4,
  "nbformat_minor": 0,
  "metadata": {
    "colab": {
      "name": "ML Lecture13 - Feature Engineering.ipynb",
      "provenance": [],
      "collapsed_sections": []
    },
    "kernelspec": {
      "name": "python3",
      "display_name": "Python 3"
    },
    "language_info": {
      "name": "python"
    }
  },
  "cells": [
    {
      "cell_type": "markdown",
      "metadata": {
        "id": "uoH_W2BB-v7L"
      },
      "source": [
        "# **Feature Engineering**\n",
        "\n",
        "Feature engineering is the process of **using data’s domain knowledge** to create features that make machine learning algorithms work. It’s the act of **extracting important features** from raw data and transforming them into formats that are suitable for machine learning. To perform feature engineering, a data scientist combines domain knowledge (knowledge about a specific field) with math and programming skills to transform or come up with new features that will help a machine learning model perform better."
      ]
    },
    {
      "cell_type": "markdown",
      "metadata": {
        "id": "ejLpOoht_ECn"
      },
      "source": [
        "# **1. Non-automatic feature transformation**\n",
        "\n",
        "**1.1 Adding of polynomial features**\n",
        "\n",
        "Let us use Boston Housing dataset and look at how these features are constructed, and at how much the polynomial features help.\n"
      ]
    },
    {
      "cell_type": "code",
      "metadata": {
        "id": "34ES7IeKgqLk"
      },
      "source": [
        "#!pip install sklearn"
      ],
      "execution_count": 3,
      "outputs": []
    },
    {
      "cell_type": "code",
      "metadata": {
        "colab": {
          "base_uri": "https://localhost:8080/"
        },
        "id": "cXU8sQw--lFH",
        "outputId": "2ab1d44d-ee88-40d2-ae7b-39c5781585b0"
      },
      "source": [
        "from sklearn.datasets import load_boston\n",
        "from sklearn.model_selection import train_test_split\n",
        "from sklearn.preprocessing import MinMaxScaler\n",
        "\n",
        "boston = load_boston()\n",
        "X_train, X_test, y_train, y_test = train_test_split(boston.data, boston.target, random_state=0)\n",
        "\n",
        "# rescale data\n",
        "scaler = MinMaxScaler()\n",
        "X_train_scaled = scaler.fit_transform(X_train)\n",
        "X_test_scaled = scaler.transform(X_test)"
      ],
      "execution_count": 48,
      "outputs": [
        {
          "output_type": "stream",
          "name": "stderr",
          "text": [
            "/usr/local/lib/python3.7/dist-packages/sklearn/utils/deprecation.py:87: FutureWarning: Function load_boston is deprecated; `load_boston` is deprecated in 1.0 and will be removed in 1.2.\n",
            "\n",
            "    The Boston housing prices dataset has an ethical problem. You can refer to\n",
            "    the documentation of this function for further details.\n",
            "\n",
            "    The scikit-learn maintainers therefore strongly discourage the use of this\n",
            "    dataset unless the purpose of the code is to study and educate about\n",
            "    ethical issues in data science and machine learning.\n",
            "\n",
            "    In this special case, you can fetch the dataset from the original\n",
            "    source::\n",
            "\n",
            "        import pandas as pd\n",
            "        import numpy as np\n",
            "\n",
            "\n",
            "        data_url = \"http://lib.stat.cmu.edu/datasets/boston\"\n",
            "        raw_df = pd.read_csv(data_url, sep=\"\\s+\", skiprows=22, header=None)\n",
            "        data = np.hstack([raw_df.values[::2, :], raw_df.values[1::2, :2]])\n",
            "        target = raw_df.values[1::2, 2]\n",
            "\n",
            "    Alternative datasets include the California housing dataset (i.e.\n",
            "    :func:`~sklearn.datasets.fetch_california_housing`) and the Ames housing\n",
            "    dataset. You can load the datasets as follows::\n",
            "\n",
            "        from sklearn.datasets import fetch_california_housing\n",
            "        housing = fetch_california_housing()\n",
            "\n",
            "    for the California housing dataset and::\n",
            "\n",
            "        from sklearn.datasets import fetch_openml\n",
            "        housing = fetch_openml(name=\"house_prices\", as_frame=True)\n",
            "\n",
            "    for the Ames housing dataset.\n",
            "    \n",
            "  warnings.warn(msg, category=FutureWarning)\n"
          ]
        }
      ]
    },
    {
      "cell_type": "markdown",
      "metadata": {
        "id": "pbbV6mK4AIkC"
      },
      "source": [
        "Now, we extract polynomial features and interactions up to a degree of 2:"
      ]
    },
    {
      "cell_type": "code",
      "metadata": {
        "colab": {
          "base_uri": "https://localhost:8080/"
        },
        "id": "aHhKVUDhADP4",
        "outputId": "c3abdf1e-da2c-4c95-d55f-46aaa89953da"
      },
      "source": [
        "from sklearn.preprocessing import PolynomialFeatures\n",
        "poly = PolynomialFeatures(degree=2).fit(X_train_scaled)\n",
        "\n",
        "X_train_poly = poly.transform(X_train_scaled)\n",
        "X_test_poly = poly.transform(X_test_scaled)\n",
        "print(\"X_train.shape: {}\".format(X_train.shape))\n",
        "print(\"X_train_poly.shape: {}\".format(X_train_poly.shape))"
      ],
      "execution_count": 50,
      "outputs": [
        {
          "output_type": "stream",
          "name": "stdout",
          "text": [
            "X_train.shape: (379, 13)\n",
            "X_train_poly.shape: (379, 105)\n"
          ]
        }
      ]
    },
    {
      "cell_type": "markdown",
      "metadata": {
        "id": "Ov1dHwGmARtK"
      },
      "source": [
        "The data originally had 13 features, which were expanded into 105 interaction features. These new features represent all possible interactions between two different original features, as well as the square of each original feature. degree=2 here means that we look at all features that are the product of up to two original features. The exact correspondence between input and output features can be found using the get_feature_names method:"
      ]
    },
    {
      "cell_type": "code",
      "metadata": {
        "colab": {
          "base_uri": "https://localhost:8080/"
        },
        "id": "y2OODQ69ANCF",
        "outputId": "7816e9bd-878b-4d1b-97e7-696b5140ef42"
      },
      "source": [
        "print(\"Polynomial feature names:\\n{}\".format(poly.get_feature_names()))"
      ],
      "execution_count": 51,
      "outputs": [
        {
          "output_type": "stream",
          "name": "stdout",
          "text": [
            "Polynomial feature names:\n",
            "['1', 'x0', 'x1', 'x2', 'x3', 'x4', 'x5', 'x6', 'x7', 'x8', 'x9', 'x10', 'x11', 'x12', 'x0^2', 'x0 x1', 'x0 x2', 'x0 x3', 'x0 x4', 'x0 x5', 'x0 x6', 'x0 x7', 'x0 x8', 'x0 x9', 'x0 x10', 'x0 x11', 'x0 x12', 'x1^2', 'x1 x2', 'x1 x3', 'x1 x4', 'x1 x5', 'x1 x6', 'x1 x7', 'x1 x8', 'x1 x9', 'x1 x10', 'x1 x11', 'x1 x12', 'x2^2', 'x2 x3', 'x2 x4', 'x2 x5', 'x2 x6', 'x2 x7', 'x2 x8', 'x2 x9', 'x2 x10', 'x2 x11', 'x2 x12', 'x3^2', 'x3 x4', 'x3 x5', 'x3 x6', 'x3 x7', 'x3 x8', 'x3 x9', 'x3 x10', 'x3 x11', 'x3 x12', 'x4^2', 'x4 x5', 'x4 x6', 'x4 x7', 'x4 x8', 'x4 x9', 'x4 x10', 'x4 x11', 'x4 x12', 'x5^2', 'x5 x6', 'x5 x7', 'x5 x8', 'x5 x9', 'x5 x10', 'x5 x11', 'x5 x12', 'x6^2', 'x6 x7', 'x6 x8', 'x6 x9', 'x6 x10', 'x6 x11', 'x6 x12', 'x7^2', 'x7 x8', 'x7 x9', 'x7 x10', 'x7 x11', 'x7 x12', 'x8^2', 'x8 x9', 'x8 x10', 'x8 x11', 'x8 x12', 'x9^2', 'x9 x10', 'x9 x11', 'x9 x12', 'x10^2', 'x10 x11', 'x10 x12', 'x11^2', 'x11 x12', 'x12^2']\n"
          ]
        },
        {
          "output_type": "stream",
          "name": "stderr",
          "text": [
            "/usr/local/lib/python3.7/dist-packages/sklearn/utils/deprecation.py:87: FutureWarning: Function get_feature_names is deprecated; get_feature_names is deprecated in 1.0 and will be removed in 1.2. Please use get_feature_names_out instead.\n",
            "  warnings.warn(msg, category=FutureWarning)\n"
          ]
        }
      ]
    },
    {
      "cell_type": "markdown",
      "metadata": {
        "id": "fCyP9CH7AjX6"
      },
      "source": [
        "The first new feature is a constant feature, called \"1\" here. The next 13 features are the original features (called \"x0\" to \"x12\"). Then follows the first feature squared (\"x0^2\") and combinations of the first and the other features.\n",
        "\n",
        "Let’s compare the performance using Ridge on the data with and without interactions:"
      ]
    },
    {
      "cell_type": "code",
      "metadata": {
        "colab": {
          "base_uri": "https://localhost:8080/"
        },
        "id": "pSlJ_emQAeql",
        "outputId": "a2dd8150-c302-4589-8e23-ddaa30890a8e"
      },
      "source": [
        "from sklearn.linear_model import Ridge\n",
        "ridge = Ridge().fit(X_train_scaled, y_train)\n",
        "print(\"Score without interactions: {:.3f}\".format(ridge.score(X_test_scaled, y_test)))\n",
        "ridge = Ridge().fit(X_train_poly, y_train)\n",
        "print(\"Score with interactions: {:.3f}\".format(ridge.score(X_test_poly, y_test)))"
      ],
      "execution_count": 52,
      "outputs": [
        {
          "output_type": "stream",
          "name": "stdout",
          "text": [
            "Score without interactions: 0.621\n",
            "Score with interactions: 0.753\n"
          ]
        }
      ]
    },
    {
      "cell_type": "markdown",
      "metadata": {
        "id": "NAE8iPHXA1o0"
      },
      "source": [
        "Clearly, the interactions and polynomial features gave us a **good boost** in performance when using Ridge."
      ]
    },
    {
      "cell_type": "markdown",
      "metadata": {
        "id": "D9TP0xw1BARY"
      },
      "source": [
        "**1.2 Nonlinear transformation**\n",
        "\n",
        "Let us consider a synthetic dataset that has properties similar to those you can find in the wild."
      ]
    },
    {
      "cell_type": "code",
      "metadata": {
        "id": "Iqxw1Z-LBHbD"
      },
      "source": [
        "import numpy as np\n",
        "rnd = np.random.RandomState(0)\n",
        "X_org = rnd.normal(size=(1000, 3))\n",
        "w = rnd.normal(size=3)\n",
        "X = rnd.poisson(10 * np.exp(X_org))\n",
        "y = np.dot(X_org, w)"
      ],
      "execution_count": 53,
      "outputs": []
    },
    {
      "cell_type": "code",
      "metadata": {
        "colab": {
          "base_uri": "https://localhost:8080/"
        },
        "id": "MJ4iE-ZeBIDv",
        "outputId": "0aa97d84-255c-4e5e-9626-56f30666097b"
      },
      "source": [
        "X[:10,0]"
      ],
      "execution_count": 54,
      "outputs": [
        {
          "output_type": "execute_result",
          "data": {
            "text/plain": [
              "array([ 56,  81,  25,  20,  27,  18,  12,  21, 109,   7])"
            ]
          },
          "metadata": {},
          "execution_count": 54
        }
      ]
    },
    {
      "cell_type": "markdown",
      "metadata": {
        "id": "JBoJqsraBOfz"
      },
      "source": [
        "Let’s look at the first 10 entries of the first feature. All are integer values and positive, but apart from that it’s hard to make out a particular pattern. If we count the **appearance of each value**, the distribution of values becomes clearer:\n",
        "\n"
      ]
    },
    {
      "cell_type": "code",
      "metadata": {
        "id": "qOv65QJErvAH"
      },
      "source": [
        "#print('Feature X[0] = ', X[:, 0])"
      ],
      "execution_count": 56,
      "outputs": []
    },
    {
      "cell_type": "code",
      "metadata": {
        "colab": {
          "base_uri": "https://localhost:8080/"
        },
        "id": "IveqFlmABK0R",
        "outputId": "f7e9799c-f007-4449-c034-95cc4de492aa"
      },
      "source": [
        "print('Max Value in feature X[0] =', max(X[:,0]))\n",
        "print(\"\\nNumber of feature appearances:\\n{}\".format(np.bincount(X[:, 0])))"
      ],
      "execution_count": 57,
      "outputs": [
        {
          "output_type": "stream",
          "name": "stdout",
          "text": [
            "Max Value in feature X[0] = 140\n",
            "\n",
            "Number of feature appearances:\n",
            "[28 38 68 48 61 59 45 56 37 40 35 34 36 26 23 26 27 21 23 23 18 21 10  9\n",
            " 17  9  7 14 12  7  3  8  4  5  5  3  4  2  4  1  1  3  2  5  3  8  2  5\n",
            "  2  1  2  3  3  2  2  3  3  0  1  2  1  0  0  3  1  0  0  0  1  3  0  1\n",
            "  0  2  0  1  1  0  0  0  0  1  0  0  2  2  0  1  1  0  0  0  0  1  1  0\n",
            "  0  0  0  0  0  0  1  0  0  0  0  0  1  1  0  0  1  0  0  0  0  0  0  0\n",
            "  1  0  0  0  0  1  0  0  0  0  0  0  0  0  0  0  0  0  0  0  1]\n"
          ]
        }
      ]
    },
    {
      "cell_type": "markdown",
      "metadata": {
        "id": "q8zZGhkNBcbO"
      },
      "source": [
        "**The value 2 seems to be the most common**, with 68 appearances (bincount always starts at 0), *and the **counts for higher values** fall quickly*. However, there are some very high values. We visualize the counts in Figure:\n",
        "\n",
        "*Histogram of feature values for X[0]*"
      ]
    },
    {
      "cell_type": "code",
      "metadata": {
        "colab": {
          "base_uri": "https://localhost:8080/",
          "height": 296
        },
        "id": "cD0ciGg2BXOV",
        "outputId": "19eb371c-e85d-4063-a750-a2081807b655"
      },
      "source": [
        "from matplotlib import pyplot as plt\n",
        "\n",
        "bins = np.bincount(X[:, 0])\n",
        "plt.bar(range(len(bins)), bins, color='b')\n",
        "plt.ylabel(\"Number of appearances\")\n",
        "plt.xlabel(\"Value\")"
      ],
      "execution_count": 58,
      "outputs": [
        {
          "output_type": "execute_result",
          "data": {
            "text/plain": [
              "Text(0.5, 0, 'Value')"
            ]
          },
          "metadata": {},
          "execution_count": 58
        },
        {
          "output_type": "display_data",
          "data": {
            "image/png": "[encoded data removed]",
            "text/plain": [
              "<Figure size 432x288 with 1 Axes>"
            ]
          },
          "metadata": {
            "needs_background": "light"
          }
        }
      ]
    },
    {
      "cell_type": "markdown",
      "metadata": {
        "id": "LUV_44M5BsRz"
      },
      "source": [
        "Features X[:, 1] and X[:, 2] have similar properties. **This kind of distribution of values (many small ones and a few very large ones) is very common in practice.**\n",
        "\n",
        "However, it is something most linear models **can’t handle very well.** Let’s try to fit a ridge regression to this model:"
      ]
    },
    {
      "cell_type": "code",
      "metadata": {
        "colab": {
          "base_uri": "https://localhost:8080/"
        },
        "id": "q-IVLECGBosP",
        "outputId": "49bef166-6381-4e22-b4c8-22f797a79bf1"
      },
      "source": [
        "from sklearn.linear_model import Ridge\n",
        "X_train, X_test, y_train, y_test = train_test_split(X, y, random_state=0)\n",
        "score = Ridge().fit(X_train, y_train).score(X_test, y_test)\n",
        "print(\"Test score: {:.3f}\".format(score))"
      ],
      "execution_count": 59,
      "outputs": [
        {
          "output_type": "stream",
          "name": "stdout",
          "text": [
            "Test score: 0.622\n"
          ]
        }
      ]
    },
    {
      "cell_type": "markdown",
      "metadata": {
        "id": "TJhVklOIB4f5"
      },
      "source": [
        "As you can see from the relatively low R2 score, Ridge was not able to really capture the relationship between X and y. **Applying a logarithmic transformation can help, though.**\n",
        "\n",
        "Because the value 0 appears in the data (and the logarithm is not defined at 0), we can’t actually just apply log, but we have to compute log(X + 1):"
      ]
    },
    {
      "cell_type": "code",
      "metadata": {
        "id": "w0KfeRAMB1L5"
      },
      "source": [
        "X_train_log = np.log(X_train + 1)\n",
        "X_test_log = np.log(X_test + 1)"
      ],
      "execution_count": 60,
      "outputs": []
    },
    {
      "cell_type": "markdown",
      "metadata": {
        "id": "o0U0Uz0qCDzO"
      },
      "source": [
        "After the transformation, the distribution of the data is **less asymmetrical or (more symmetrical)** and doesn’t have very large outliers anymore:\n",
        "\n",
        "*Histogram of feature values for X[0] after logarithmic transformation*\n",
        "\n"
      ]
    },
    {
      "cell_type": "code",
      "metadata": {
        "colab": {
          "base_uri": "https://localhost:8080/",
          "height": 296
        },
        "id": "IN-V93_rCBP5",
        "outputId": "ecf55564-1a35-4d9e-a957-e90e7026cc33"
      },
      "source": [
        "plt.hist(np.log(X_train_log[:, 0] + 1), bins=25, color='gray')\n",
        "plt.ylabel(\"Number of appearances\")\n",
        "plt.xlabel(\"Value\")"
      ],
      "execution_count": 61,
      "outputs": [
        {
          "output_type": "execute_result",
          "data": {
            "text/plain": [
              "Text(0.5, 0, 'Value')"
            ]
          },
          "metadata": {},
          "execution_count": 61
        },
        {
          "output_type": "display_data",
          "data": {
            "image/png": "[encoded data removed]",
            "text/plain": [
              "<Figure size 432x288 with 1 Axes>"
            ]
          },
          "metadata": {
            "needs_background": "light"
          }
        }
      ]
    },
    {
      "cell_type": "markdown",
      "metadata": {
        "id": "R08dGWHyCa-h"
      },
      "source": [
        "Building a ridge model on the new data provides a much better fit:\n",
        "\n"
      ]
    },
    {
      "cell_type": "code",
      "metadata": {
        "colab": {
          "base_uri": "https://localhost:8080/"
        },
        "id": "NPP89SfqCSE5",
        "outputId": "18e47462-2699-45ef-85c5-66cdbed1a0f5"
      },
      "source": [
        "score = Ridge().fit(X_train_log, y_train).score(X_test_log, y_test)\n",
        "print(\"Test score: {:.3f}\".format(score))"
      ],
      "execution_count": 62,
      "outputs": [
        {
          "output_type": "stream",
          "name": "stdout",
          "text": [
            "Test score: 0.875\n"
          ]
        }
      ]
    },
    {
      "cell_type": "markdown",
      "metadata": {
        "id": "jRhsHCfVCk0O"
      },
      "source": [
        "*Finding the transformation that works best for each combination of dataset and model is somewhat of an art.* In this example, all the features had the same properties. This is rarely the case in practice, and **usually only a subset of the features should be transformed,** or *sometimes each feature needs to be transformed in a different way.*\n",
        "\n"
      ]
    },
    {
      "cell_type": "markdown",
      "metadata": {
        "id": "XpQXuugACouU"
      },
      "source": [
        "# **2. Automatic Feature Selection**\n",
        "\n",
        "Adding more features makes all models more complex, and so increases the chance of overfitting. When adding new features, or with high-dimensional datasets in general, it can be a good idea to reduce the number of features to only the most useful ones, and discard the rest. This can lead to simpler models that generalize better. **But how can you know how good each feature is?** There are three basic strategies: univariate statistics, model-based selection, and iterative selection."
      ]
    },
    {
      "cell_type": "markdown",
      "metadata": {
        "id": "-DippMvzF9_E"
      },
      "source": [
        "**2.1 Univariate Statistics**\n",
        "\n",
        "In univariate statistics, we compute whether there is a **statistically significant relationship** between each feature and the target. Then *the features that are related with the highest confidence are selected.* In the case of classification, this is also known as ***analysis of variance (ANOVA)***. A key property of these tests is that they are univariate, meaning that they only **consider each feature individually.** Consequently, a feature will be discarded if it is only informative when combined with another feature. Univariate tests are often very fast to compute, and don’t require building a model. On the other hand, they are completely independent of the model that you might want to apply after the feature selection.\n",
        "\n",
        "**To use univariate feature selection in scikit-learn**, you need to choose a test, usually either f_classif (the default) for classification or f_regression for regression, and a method to discard features based on the p-values determined in the test. All methods for discarding parameters use a threshold to discard all features with too high a p-value (which means they are unlikely to be related to the target). The methods differ in how they compute this threshold, with the simplest ones being SelectKBest, which selects a fixed number k of features, and SelectPercentile, which selects a fixed percentage of features.\n",
        "\n",
        "Let’s apply the feature selection for classification on the cancer dataset. To make the task a bit harder, we’ll add some non-informative noise features to the data. We expect the feature selection to be able to identify the features that are non-informative and remove them:\n"
      ]
    },
    {
      "cell_type": "code",
      "metadata": {
        "colab": {
          "base_uri": "https://localhost:8080/"
        },
        "id": "gFH1FNreCfFN",
        "outputId": "d7d3d839-7056-469d-cde1-f621de3a3dce"
      },
      "source": [
        "from sklearn.datasets import load_breast_cancer\n",
        "from sklearn.feature_selection import SelectPercentile\n",
        "from sklearn.model_selection import train_test_split\n",
        "\n",
        "cancer = load_breast_cancer()\n",
        "\n",
        "# get deterministic random numbers\n",
        "rng = np.random.RandomState(11)\n",
        "noise = rng.normal(size=(len(cancer.data), 50))\n",
        "\n",
        "# add noise features to the data\n",
        "# the first 30 features are from the dataset, the next 50 are noise\n",
        "X_w_noise = np.hstack([cancer.data, noise])\n",
        "X_train, X_test, y_train, y_test = train_test_split(\n",
        "X_w_noise, cancer.target, random_state=0, test_size=.5)\n",
        "\n",
        "# use f_classif (the default) and SelectPercentile to select 50% of features\n",
        "select = SelectPercentile(percentile=50)\n",
        "select.fit(X_train, y_train)\n",
        "\n",
        "# transform training set\n",
        "X_train_selected = select.transform(X_train)\n",
        "print(\"X_train.shape: {}\".format(X_train.shape))\n",
        "print(\"X_train_selected.shape: {}\".format(X_train_selected.shape))"
      ],
      "execution_count": 16,
      "outputs": [
        {
          "output_type": "stream",
          "name": "stdout",
          "text": [
            "X_train.shape: (284, 80)\n",
            "X_train_selected.shape: (284, 40)\n"
          ]
        }
      ]
    },
    {
      "cell_type": "markdown",
      "metadata": {
        "id": "ld_kkcWXGSNK"
      },
      "source": [
        "As you can see, the number of features was reduced from 80 to 40 (50 percent of the original number of features). We can find out which features have been selected using the get_support method, which returns a Boolean mask of the selected features (visualized in Figure):\n",
        "\n"
      ]
    },
    {
      "cell_type": "markdown",
      "metadata": {
        "id": "JIUAxcSFGVk4"
      },
      "source": [
        "*Features selected by SelectPercentile*\n",
        "\n",
        "\n",
        "\n"
      ]
    },
    {
      "cell_type": "code",
      "metadata": {
        "colab": {
          "base_uri": "https://localhost:8080/",
          "height": 212
        },
        "id": "pCwSLMcUGOTt",
        "outputId": "adf1f7f4-8d66-4910-ac0b-40add06abea2"
      },
      "source": [
        "mask = select.get_support()\n",
        "print(mask)\n",
        "\n",
        "# visualize the mask -- black is True, white is False\n",
        "plt.matshow(mask.reshape(1, -1), cmap='gray_r')\n",
        "plt.xlabel(\"Sample index\")"
      ],
      "execution_count": 17,
      "outputs": [
        {
          "output_type": "stream",
          "name": "stdout",
          "text": [
            "[ True  True  True  True  True  True  True  True  True False  True False\n",
            "  True  True  True  True  True  True False False  True  True  True  True\n",
            "  True  True  True  True  True  True  True False  True False  True  True\n",
            " False  True False False False False False  True  True False False False\n",
            "  True False False False False False False False  True False False False\n",
            " False False  True False  True False  True False False False False False\n",
            " False False False False False  True  True False]\n"
          ]
        },
        {
          "output_type": "execute_result",
          "data": {
            "text/plain": [
              "Text(0.5, 0, 'Sample index')"
            ]
          },
          "metadata": {},
          "execution_count": 17
        },
        {
          "output_type": "display_data",
          "data": {
            "image/png": "[encoded data removed]",
            "text/plain": [
              "<Figure size 1152x144 with 1 Axes>"
            ]
          },
          "metadata": {
            "needs_background": "light"
          }
        }
      ]
    },
    {
      "cell_type": "markdown",
      "metadata": {
        "id": "VNlS0KmvGjOM"
      },
      "source": [
        "As you can see from the visualization of the mask, most of the selected features are the original features, and most of the noise features were removed. However, the recovery of the original features is not perfect. Let’s compare the performance of logistic regression on all features against the performance using only the selected features:\n",
        "\n"
      ]
    },
    {
      "cell_type": "code",
      "metadata": {
        "colab": {
          "base_uri": "https://localhost:8080/"
        },
        "id": "HbyvQJiRGdXD",
        "outputId": "20b924f1-ea86-4d63-cdab-f67b6b1d8748"
      },
      "source": [
        "from sklearn.linear_model import LogisticRegression\n",
        "\n",
        "# transform test data\n",
        "X_test_selected = select.transform(X_test)\n",
        "lr = LogisticRegression(max_iter=10000)\n",
        "\n",
        "lr.fit(X_train, y_train)\n",
        "print(\"Score with all features: {:.3f}\".format(lr.score(X_test, y_test)))\n",
        "\n",
        "lr.fit(X_train_selected, y_train)\n",
        "print(\"Score with only selected features: {:.3f}\".format(lr.score(X_test_selected, y_test)))"
      ],
      "execution_count": 18,
      "outputs": [
        {
          "output_type": "stream",
          "name": "stdout",
          "text": [
            "Score with all features: 0.930\n",
            "Score with only selected features: 0.940\n"
          ]
        }
      ]
    },
    {
      "cell_type": "markdown",
      "metadata": {
        "id": "BtGe0JsSGrUh"
      },
      "source": [
        "Univariate feature selection can still be very helpful, though, if there is such a large number of features that building a model on them is infeasible, or if you suspect that many features are completely uninformative."
      ]
    },
    {
      "cell_type": "markdown",
      "metadata": {
        "id": "7GLFnVDxGukP"
      },
      "source": [
        "**2.2 Model-Based Feature Selection**\n",
        "\n",
        "Model-based feature selection uses a supervised machine learning model to judge the importance of each feature, and keeps only the most important ones. The supervised model that is used for feature selection doesn’t need to be the same model that is used for the final supervised modeling. *The feature selection model needs to provide **some measure of importance** for each feature, so that they can be ranked by this measure.*\n",
        "\n",
        "Decision trees and decision tree–based models provide a **feature_importances_ attribute**, which directly encodes the importance of each feature. **Linear models have coefficients**, which can also be used to capture feature importances by considering the absolute values. Linear models with L1 penalty learn **sparse coefficients**, which only use a small subset of features. This can be viewed as a form of feature selection for the model itself, but can also be used as a preprocessing step to select features for another model.\n",
        "\n",
        "***In contrast to univariate selection***, model-based selection considers all features at once, and so can capture interactions (if the model can capture them). To use model-based feature selection, we need to use the **SelectFromModel** transformer:"
      ]
    },
    {
      "cell_type": "code",
      "metadata": {
        "id": "R7f1rDeIGnIH"
      },
      "source": [
        "from sklearn.feature_selection import SelectFromModel\n",
        "from sklearn.ensemble import RandomForestClassifier\n",
        "select = SelectFromModel(RandomForestClassifier(n_estimators=100, random_state=42),threshold=\"median\")"
      ],
      "execution_count": 19,
      "outputs": []
    },
    {
      "cell_type": "markdown",
      "metadata": {
        "id": "-Mgv1A3AG-mF"
      },
      "source": [
        "The **SelectFromModel** class selects all features that have an importance measure of the feature (as provided by the supervised model) greater than the provided threshold. To get a comparable result to what we got with univariate feature selection, we used the median as a threshold, so that half of the features will be selected. We use a random forest classifier with 100 trees to compute the feature importances. This is a quite complex model and much more powerful than using univariate tests. Now let’s actually fit the model:"
      ]
    },
    {
      "cell_type": "code",
      "metadata": {
        "colab": {
          "base_uri": "https://localhost:8080/"
        },
        "id": "KnhLvux2G67d",
        "outputId": "d50a3faa-0a4d-4b47-d092-2ca7ebe11dce"
      },
      "source": [
        "select.fit(X_train, y_train)\n",
        "X_train_l1 = select.transform(X_train)\n",
        "print(\"X_train.shape: {}\".format(X_train.shape))\n",
        "print(\"X_train_l1.shape: {}\".format(X_train_l1.shape))"
      ],
      "execution_count": 20,
      "outputs": [
        {
          "output_type": "stream",
          "name": "stdout",
          "text": [
            "X_train.shape: (284, 80)\n",
            "X_train_l1.shape: (284, 40)\n"
          ]
        }
      ]
    },
    {
      "cell_type": "markdown",
      "metadata": {
        "id": "0xNTMqe-HFWC"
      },
      "source": [
        "Again, we can have a look at the features that were selected:\n",
        "\n"
      ]
    },
    {
      "cell_type": "markdown",
      "metadata": {
        "id": "9qmhHvXPHIYg"
      },
      "source": [
        "*Features selected by SelectFromModel using the RandomForestClassifier*"
      ]
    },
    {
      "cell_type": "code",
      "metadata": {
        "colab": {
          "base_uri": "https://localhost:8080/",
          "height": 90
        },
        "id": "hB0nMS-gHCBa",
        "outputId": "d0560054-3f17-4fce-cd0c-a395ce91d29a"
      },
      "source": [
        "mask = select.get_support()\n",
        "\n",
        "# visualize the mask -- black is True, white is False\n",
        "plt.matshow(mask.reshape(1, -1), cmap='gray_r')\n",
        "plt.xlabel(\"Sample index\")"
      ],
      "execution_count": 21,
      "outputs": [
        {
          "output_type": "execute_result",
          "data": {
            "text/plain": [
              "Text(0.5, 0, 'Sample index')"
            ]
          },
          "metadata": {},
          "execution_count": 21
        },
        {
          "output_type": "display_data",
          "data": {
            "image/png": "[encoded data removed]",
            "text/plain": [
              "<Figure size 1152x144 with 1 Axes>"
            ]
          },
          "metadata": {
            "needs_background": "light"
          }
        }
      ]
    },
    {
      "cell_type": "markdown",
      "metadata": {
        "id": "NZVIQN4BHRKw"
      },
      "source": [
        "This time, almost all of the original features were selected. Because we specified to select 40 features, some of the noise features are also selected. Let’s take a look at the performance:\n",
        "\n"
      ]
    },
    {
      "cell_type": "code",
      "metadata": {
        "colab": {
          "base_uri": "https://localhost:8080/"
        },
        "id": "oK-11o17HNoy",
        "outputId": "03c9f2e2-7b82-4b90-e11f-7da2fe923f8c"
      },
      "source": [
        "X_test_l1 = select.transform(X_test)\n",
        "score = LogisticRegression(max_iter=10000).fit(X_train_l1, y_train).score(X_test_l1, y_test)\n",
        "print(\"Test score: {:.3f}\".format(score))"
      ],
      "execution_count": 22,
      "outputs": [
        {
          "output_type": "stream",
          "name": "stdout",
          "text": [
            "Test score: 0.958\n"
          ]
        }
      ]
    },
    {
      "cell_type": "markdown",
      "metadata": {
        "id": "XHXDtrCGHZgA"
      },
      "source": [
        "With the better feature selection, we also gained some improvements here.\n",
        "\n"
      ]
    },
    {
      "cell_type": "markdown",
      "metadata": {
        "id": "UcSI9FlXHfD5"
      },
      "source": [
        "**2.3 Iterative Feature Selection**\n",
        "\n",
        "In univariate testing we used no model, while in model-based selection we used a single model to select features. In iterative feature selection, a series of models are built, with varying numbers of features.\n",
        "\n",
        "There are two basic methods: starting with no features and adding features one by one until some stopping criterion is reached, or starting with all features and removing features one by one until some stopping criterion is reached.\n",
        "\n",
        "Because a series of models are built, these methods are much more computationally expensive than the methods we discussed previously. One particular method of this kind is **recursive feature elimination (RFE)**, which starts with all features, builds a model, and discards the least important feature according to the model. Then a new model is built using all but the discarded feature, and so on until only a pre-specified number of features are left. For this to work, the model used for selection needs to provide some way to determine feature importance, as was the case for the model-based selection.\n",
        "\n",
        "Here, we use the same random forest model that we used earlier, and get the results shown in Figure:\n",
        "\n",
        "*Features selected by recursive feature elimination with the random forest classifier model*"
      ]
    },
    {
      "cell_type": "code",
      "metadata": {
        "colab": {
          "base_uri": "https://localhost:8080/",
          "height": 90
        },
        "id": "VlRnWJqoHVw2",
        "outputId": "cf80fc28-5da5-4946-bebd-9ba856dc4662"
      },
      "source": [
        "from sklearn.feature_selection import RFE\n",
        "select = RFE(RandomForestClassifier(n_estimators=100, random_state=42),\n",
        "n_features_to_select=40)\n",
        "select.fit(X_train, y_train)\n",
        "\n",
        "# visualize the selected features:\n",
        "mask = select.get_support()\n",
        "plt.matshow(mask.reshape(1, -1), cmap='gray_r')\n",
        "plt.xlabel(\"Sample index\")"
      ],
      "execution_count": 23,
      "outputs": [
        {
          "output_type": "execute_result",
          "data": {
            "text/plain": [
              "Text(0.5, 0, 'Sample index')"
            ]
          },
          "metadata": {},
          "execution_count": 23
        },
        {
          "output_type": "display_data",
          "data": {
            "image/png": "[encoded data removed]",
            "text/plain": [
              "<Figure size 1152x144 with 1 Axes>"
            ]
          },
          "metadata": {
            "needs_background": "light"
          }
        }
      ]
    },
    {
      "cell_type": "markdown",
      "metadata": {
        "id": "1kpc5SleH3px"
      },
      "source": [
        "The feature selection got better compared to the univariate and model-based selection, but one feature was still missed. Running this code also takes significantly longer than that for the model-based selection, because a random forest model is trained 40 times, once for each feature that is dropped. Let’s test the accuracy of the logistic regression model when using RFE for feature selection:"
      ]
    },
    {
      "cell_type": "code",
      "metadata": {
        "colab": {
          "base_uri": "https://localhost:8080/"
        },
        "id": "2uhpFZ5EHxMG",
        "outputId": "164106a4-48e8-43ed-cede-5a8d6217cb51"
      },
      "source": [
        "X_train_rfe= select.transform(X_train)\n",
        "X_test_rfe= select.transform(X_test)\n",
        "score = LogisticRegression(max_iter=10000).fit(X_train_rfe, y_train).score(X_test_rfe, y_test)\n",
        "print(\"Test score: {:.3f}\".format(score))"
      ],
      "execution_count": 24,
      "outputs": [
        {
          "output_type": "stream",
          "name": "stdout",
          "text": [
            "Test score: 0.947\n"
          ]
        }
      ]
    },
    {
      "cell_type": "markdown",
      "metadata": {
        "id": "gUGDDoOEH-ZV"
      },
      "source": [
        "We can also use the model used inside the RFE to make predictions. This uses only the feature set that was selected:\n",
        "\n"
      ]
    },
    {
      "cell_type": "code",
      "metadata": {
        "colab": {
          "base_uri": "https://localhost:8080/"
        },
        "id": "Ai1OwGQtIMsP",
        "outputId": "ba494512-b6cf-40ed-8659-e87d30958478"
      },
      "source": [
        "print(\"Test score: {:.3f}\".format(select.score(X_test, y_test)))"
      ],
      "execution_count": 25,
      "outputs": [
        {
          "output_type": "stream",
          "name": "stdout",
          "text": [
            "Test score: 0.947\n"
          ]
        }
      ]
    },
    {
      "cell_type": "markdown",
      "metadata": {
        "id": "HqzNUwlkII_J"
      },
      "source": [
        "Here, the performance of the random forest used inside the RFE is the same as that achieved by training a logistic regression model on top of the selected features. In other words, once we’ve selected the right features, the linear model performs as well as the random forest.\n",
        "\n",
        "**If you are unsure when selecting what to use as input to your machine learning algorithms, automatic feature selection can be quite helpful.** It is also great for reducing the amount of features needed—for example, to speed up prediction or to allow for more interpretable models. In most real-world cases, applying feature selection is unlikely to provide large gains in performance. However, it is still a valuable tool in the toolbox of the feature engineer."
      ]
    },
    {
      "cell_type": "markdown",
      "metadata": {
        "id": "-Is7j37LIUsY"
      },
      "source": [
        "# **3. Categorical Features**\n",
        "\n",
        "\n",
        "One of the more important steps in using machine learning in practice is taking whatever information you have about your problem and turning it into numbers that you can use to build your feature matrix.\n",
        "\n",
        "***One common type of non-numerical data is Cagegorical data***. For example, imagine you are exploring some data on housing prices, and along with numerical features like \"price\" and \"rooms\", you also have \"neighborhood\" information. For example, your data might look something like this:"
      ]
    },
    {
      "cell_type": "code",
      "metadata": {
        "id": "JkqoMDlXH7KO"
      },
      "source": [
        "data = [\n",
        "    {'price': 850000, 'rooms': 4, 'neighborhood': 'Queen Anne'},\n",
        "    {'price': 700000, 'rooms': 3, 'neighborhood': 'Fremont'},\n",
        "    {'price': 650000, 'rooms': 3, 'neighborhood': 'Wallingford'},\n",
        "    {'price': 600000, 'rooms': 2, 'neighborhood': 'Fremont'}\n",
        "]"
      ],
      "execution_count": 26,
      "outputs": []
    },
    {
      "cell_type": "markdown",
      "metadata": {
        "id": "BgibvbvaIkHC"
      },
      "source": [
        "You might be tempted to encode this data with a straightforward numerical mapping:\n",
        "\n"
      ]
    },
    {
      "cell_type": "code",
      "metadata": {
        "id": "rScc_yh5IgmP"
      },
      "source": [
        "{'Queen Anne': 1, 'Fremont': 2, 'Wallingford': 3};"
      ],
      "execution_count": 27,
      "outputs": []
    },
    {
      "cell_type": "markdown",
      "metadata": {
        "id": "RSVUVbK3IsHi"
      },
      "source": [
        "**It turns out that this is not generally a useful approach in Scikit-Learn:** the package's models make the fundamental assumption that numerical features reflect algebraic quantities. Thus such a mapping would imply, for example, that Queen Anne < Fremont < Wallingford, or even that Wallingford - Queen Anne = Fremont, which (niche demographic jokes aside) *does not make much sense.*\n",
        "\n",
        "**In this case, one proven technique is to use one-hot encoding**, which effectively creates extra columns indicating the presence or absence of a category with a value of 1 or 0, respectively. When your data comes as a list of dictionaries, Scikit-Learn's **DictVectorizer** will do this for you:"
      ]
    },
    {
      "cell_type": "code",
      "metadata": {
        "colab": {
          "base_uri": "https://localhost:8080/"
        },
        "id": "JbhLCrtmIn4f",
        "outputId": "e88c3f8b-b991-4c51-f598-9b898930fdaf"
      },
      "source": [
        "from sklearn.feature_extraction import DictVectorizer\n",
        "vec = DictVectorizer(sparse=False, dtype=int)\n",
        "vec.fit_transform(data)"
      ],
      "execution_count": 28,
      "outputs": [
        {
          "output_type": "execute_result",
          "data": {
            "text/plain": [
              "array([[     0,      1,      0, 850000,      4],\n",
              "       [     1,      0,      0, 700000,      3],\n",
              "       [     0,      0,      1, 650000,      3],\n",
              "       [     1,      0,      0, 600000,      2]])"
            ]
          },
          "metadata": {},
          "execution_count": 28
        }
      ]
    },
    {
      "cell_type": "markdown",
      "metadata": {
        "id": "wTBUOq6-Iz4K"
      },
      "source": [
        "**Notice that the 'neighborhood' column has been expanded into three separate columns**, representing the three neighborhood labels, and that each row has a 1 in the column associated with its neighborhood. With these categorical features thus encoded, you can proceed as normal with fitting a Scikit-Learn model.\n",
        "\n",
        "**To see the meaning of each column,** you can inspect the feature names:"
      ]
    },
    {
      "cell_type": "code",
      "metadata": {
        "colab": {
          "base_uri": "https://localhost:8080/"
        },
        "id": "G8GqGmhoIwpZ",
        "outputId": "47bc43d1-97d0-4a8e-a998-524f4ebe923f"
      },
      "source": [
        "vec.get_feature_names()"
      ],
      "execution_count": 29,
      "outputs": [
        {
          "output_type": "stream",
          "name": "stderr",
          "text": [
            "/usr/local/lib/python3.7/dist-packages/sklearn/utils/deprecation.py:87: FutureWarning: Function get_feature_names is deprecated; get_feature_names is deprecated in 1.0 and will be removed in 1.2. Please use get_feature_names_out instead.\n",
            "  warnings.warn(msg, category=FutureWarning)\n"
          ]
        },
        {
          "output_type": "execute_result",
          "data": {
            "text/plain": [
              "['neighborhood=Fremont',\n",
              " 'neighborhood=Queen Anne',\n",
              " 'neighborhood=Wallingford',\n",
              " 'price',\n",
              " 'rooms']"
            ]
          },
          "metadata": {},
          "execution_count": 29
        }
      ]
    },
    {
      "cell_type": "markdown",
      "metadata": {
        "id": "VMOBgR9LI774"
      },
      "source": [
        "**There is one clear disadvantage of this approach:** if your category has many possible values, this can greatly increase the size of your dataset. However, because the encoded data contains mostly zeros, **a sparse output can be a very efficient solution**:\n",
        "\n"
      ]
    },
    {
      "cell_type": "code",
      "metadata": {
        "colab": {
          "base_uri": "https://localhost:8080/"
        },
        "id": "2es-NUKYI3vK",
        "outputId": "58009241-cbdd-471e-a958-a942724aca50"
      },
      "source": [
        "vec = DictVectorizer(sparse=True, dtype=int)\n",
        "vec.fit_transform(data)"
      ],
      "execution_count": 30,
      "outputs": [
        {
          "output_type": "execute_result",
          "data": {
            "text/plain": [
              "<4x5 sparse matrix of type '<class 'numpy.int64'>'\n",
              "\twith 12 stored elements in Compressed Sparse Row format>"
            ]
          },
          "metadata": {},
          "execution_count": 30
        }
      ]
    },
    {
      "cell_type": "markdown",
      "metadata": {
        "id": "6i9y93ebJD_H"
      },
      "source": [
        "Many (though not yet all) of the Scikit-Learn estimators accept such sparse inputs when fitting and evaluating models. **sklearn.preprocessing.OneHotEncoder** and **sklearn.feature_extraction.FeatureHasher** are two additional tools that Scikit-Learn includes to support this type of encoding.\n",
        "\n"
      ]
    },
    {
      "cell_type": "code",
      "metadata": {
        "id": "9YlZMzCtI_HN"
      },
      "source": [
        ""
      ],
      "execution_count": 30,
      "outputs": []
    },
    {
      "cell_type": "markdown",
      "metadata": {
        "id": "CXCtZWg5JI4h"
      },
      "source": [
        "**Task.** This data clearly cannot be well described by a straight line. Still, we can fit a line to the data using LinearRegression and get the optimal result. It's clear that we need a more sophisticated model to describe the relationship between x and y.\n",
        "\n",
        "One approach to this is to transform the data, adding extra columns of features to drive more flexibility in the model. For example, we can add polynomial features to the data.\n",
        "\n",
        "Do add polynomial features and compute a linear regression on this expanded input."
      ]
    },
    {
      "cell_type": "code",
      "metadata": {
        "colab": {
          "base_uri": "https://localhost:8080/",
          "height": 265
        },
        "id": "og0TPcLuJVFG",
        "outputId": "94d2fdb4-d0ae-4e34-94bc-896df9ef5242"
      },
      "source": [
        "import numpy as np\n",
        "import matplotlib.pyplot as plt\n",
        "\n",
        "x = np.array([1, 2, 3, 4, 5])\n",
        "y = np.array([4, 2, 1, 3, 7])\n",
        "plt.scatter(x, y);"
      ],
      "execution_count": 31,
      "outputs": [
        {
          "output_type": "display_data",
          "data": {
            "image/png": "[encoded data removed]",
            "text/plain": [
              "<Figure size 432x288 with 1 Axes>"
            ]
          },
          "metadata": {
            "needs_background": "light"
          }
        }
      ]
    },
    {
      "cell_type": "code",
      "metadata": {
        "colab": {
          "base_uri": "https://localhost:8080/",
          "height": 265
        },
        "id": "qJ_mMf9sJVnq",
        "outputId": "e47031aa-d181-4519-c1ef-89ec77d05daf"
      },
      "source": [
        "from sklearn.linear_model import LinearRegression\n",
        "X = x[:, np.newaxis]\n",
        "model = LinearRegression().fit(X, y)\n",
        "yfit = model.predict(X)\n",
        "plt.scatter(x, y)\n",
        "plt.plot(x, yfit);"
      ],
      "execution_count": 32,
      "outputs": [
        {
          "output_type": "display_data",
          "data": {
            "image/png": "[encoded data removed]",
            "text/plain": [
              "<Figure size 432x288 with 1 Axes>"
            ]
          },
          "metadata": {
            "needs_background": "light"
          }
        }
      ]
    },
    {
      "cell_type": "code",
      "metadata": {
        "id": "BGvXS6n1JYfq"
      },
      "source": [
        ""
      ],
      "execution_count": 32,
      "outputs": []
    }
  ]
}